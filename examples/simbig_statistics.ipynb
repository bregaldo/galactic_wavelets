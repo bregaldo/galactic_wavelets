{
 "cells": [
  {
   "cell_type": "code",
   "execution_count": 1,
   "metadata": {},
   "outputs": [],
   "source": [
    "import os\n",
    "\n",
    "import numpy as np\n",
    "from simbig import forwardmodel as simbig_fm\n",
    "from simbig import util as simbig_ut\n",
    "\n",
    "import galactic_wavelets as gw"
   ]
  },
  {
   "cell_type": "code",
   "execution_count": 2,
   "metadata": {},
   "outputs": [],
   "source": [
    "dat_dir = '/mnt/home/chahn/ceph/simbig_cmass/v4/train/'\n",
    "os.environ['QUIJOTE_DIR'] = \"/mnt/home/chahn/ceph/\""
   ]
  },
  {
   "cell_type": "code",
   "execution_count": 3,
   "metadata": {},
   "outputs": [],
   "source": [
    "i_lhc = np.random.randint(0, 2518)\n",
    "i_hod = np.random.randint(0, 10)\n",
    "\n",
    "# read galaxy catalog\n",
    "fgal = os.path.join(dat_dir, f'hod.quijote_LH{i_lhc}.z0p5.cmass_sgc.v4.{i_hod}.hdf5')\n",
    "gals = simbig_ut.rh5_hodcatalog(fgal)\n",
    "\n",
    "# construct corresponding randoms\n",
    "rand = simbig_fm.BOSS_randoms(gals, veto=True, sample='cmass-south')"
   ]
  },
  {
   "cell_type": "code",
   "execution_count": 4,
   "metadata": {},
   "outputs": [],
   "source": [
    "kc = 4/3*np.pi\n",
    "J = 6\n",
    "Q = 2\n",
    "angular_width = np.pi/4\n",
    "scattering = True\n",
    "kmax = 0.5\n",
    "box_size = (680, 1395, 1094)\n",
    "box_center = (1208, 36, 373)\n",
    "los = (0.965038, 0.025270, 0.260889)\n",
    "\n",
    "device = 0"
   ]
  },
  {
   "cell_type": "code",
   "execution_count": 5,
   "metadata": {},
   "outputs": [
    {
     "name": "stdout",
     "output_type": "stream",
     "text": [
      "Auto-adjustement of box_size changed box_size to [  678.58401318  1394.86713819  1093.27424345] and grid_size to (108, 222, 174).\n",
      "Computing wavelets...\n",
      "Done!\n"
     ]
    }
   ],
   "source": [
    "wst_op = gw.GalaxyCatalogScatteringOp(J=J,\n",
    "                                      Q=Q,\n",
    "                                      kc=kc,\n",
    "                                      angular_width=angular_width,\n",
    "                                      scattering=scattering,\n",
    "                                      kmax=kmax,\n",
    "                                      box_size=box_size,\n",
    "                                      box_center=box_center,\n",
    "                                      los=los,\n",
    "                                      los_auto_detection=False,\n",
    "                                      device=device)"
   ]
  },
  {
   "cell_type": "code",
   "execution_count": 6,
   "metadata": {},
   "outputs": [
    {
     "name": "stdout",
     "output_type": "stream",
     "text": [
      "Create mesh from catalog...\n",
      "Done!\n",
      "Computing statistics...\n",
      "Computing S0 coefficients...\n",
      "Computing S1 coefficients...\n",
      "Computing S2 coefficients...\n",
      "Done!\n"
     ]
    }
   ],
   "source": [
    "s0, s1, s2 = wst_op(gals, randoms=rand)"
   ]
  }
 ],
 "metadata": {
  "kernelspec": {
   "display_name": "simbig",
   "language": "python",
   "name": "python3"
  },
  "language_info": {
   "codemirror_mode": {
    "name": "ipython",
    "version": 3
   },
   "file_extension": ".py",
   "mimetype": "text/x-python",
   "name": "python",
   "nbconvert_exporter": "python",
   "pygments_lexer": "ipython3",
   "version": "3.8.16"
  },
  "orig_nbformat": 4
 },
 "nbformat": 4,
 "nbformat_minor": 2
}
