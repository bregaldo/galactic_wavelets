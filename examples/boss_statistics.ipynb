{
 "cells": [
  {
   "cell_type": "code",
   "execution_count": null,
   "metadata": {},
   "outputs": [],
   "source": [
    "import numpy as np\n",
    "from nbodykit.lab import transform\n",
    "from utils import load_boss_data\n",
    "\n",
    "from galactic_wavelets.cosmology import GalaxyCatalogScatteringOp"
   ]
  },
  {
   "cell_type": "code",
   "execution_count": null,
   "metadata": {},
   "outputs": [],
   "source": [
    "import dask\n",
    "import fitsio\n",
    "import nbodykit\n",
    "import scipy\n",
    "from nbodykit.lab import FITSCatalog\n",
    "\n",
    "print(\"Dask version:\", dask.__version__)\n",
    "print(\"Numpy version:\", np.__version__)\n",
    "print(\"Nbodykit version:\", nbodykit.__version__)\n",
    "print(\"Scipy version:\", scipy.__version__)\n",
    "print(\"Fitsio version:\", fitsio.__version__)\n",
    "data = FITSCatalog(\"data/galaxy_DR12v5_LOWZ_South.fits\")\n",
    "print(data['Z'].compute())"
   ]
  },
  {
   "attachments": {},
   "cell_type": "markdown",
   "metadata": {},
   "source": [
    "We first download and load the BOSS DR12 catalog (LOWZ South) following [nbodykit cookbook](https://nbodykit.readthedocs.io/en/latest/cookbook/boss-dr12-data.html)."
   ]
  },
  {
   "cell_type": "code",
   "execution_count": null,
   "metadata": {},
   "outputs": [],
   "source": [
    "data, randoms, cosmo = load_boss_data()"
   ]
  },
  {
   "cell_type": "code",
   "execution_count": null,
   "metadata": {},
   "outputs": [],
   "source": [
    "# from nbodykit.lab import FITSCatalog\n",
    "# data = FITSCatalog(\"data/galaxy_DR12v5_LOWZ_South.fits\")"
   ]
  },
  {
   "cell_type": "code",
   "execution_count": null,
   "metadata": {},
   "outputs": [],
   "source": [
    "print(len(data['Z'].compute()))\n",
    "print(len(randoms['Z'].compute()))"
   ]
  },
  {
   "cell_type": "code",
   "execution_count": null,
   "metadata": {},
   "outputs": [],
   "source": [
    "# We estimate the center of the BOSS data survey by taking averages of the ra/dec/z ranges\n",
    "randra_np = randoms['RA'].compute()\n",
    "randdec_np = randoms['DEC'].compute()\n",
    "randz_np = randoms['Z'].compute()\n",
    "randra_np[randra_np > 180] -= 360 # To make RA in [-180, 180]"
   ]
  },
  {
   "cell_type": "code",
   "execution_count": null,
   "metadata": {},
   "outputs": [],
   "source": [
    "# Determine a line of sight from the RA/DEC/z ranges\n",
    "mean_ra = (randra_np.max() + randra_np.min()) / 2\n",
    "mean_dec = (randdec_np.max() + randdec_np.min()) / 2\n",
    "mean_z = (randz_np.max() + randz_np.min()) / 2\n",
    "radecz_center = transform.SkyToCartesian(np.array([mean_ra]), np.array([mean_dec]), np.array([mean_z]), cosmo=cosmo).compute()[0]\n",
    "los = radecz_center / np.linalg.norm(radecz_center) # The los goes from (0, 0, 0) to radecz_center\n",
    "\n",
    "print(\"Line of sight: \", los)"
   ]
  },
  {
   "cell_type": "code",
   "execution_count": null,
   "metadata": {},
   "outputs": [],
   "source": [
    "# Determine size and center of the box\n",
    "rand_positions_np = randoms['Position'].compute()\n",
    "box_size = [rand_positions_np[:, i].max() - rand_positions_np[:, i].min() for i in range(3)]\n",
    "box_size = [box_size[i] * 1.05 for i in range(3)] # Add 5% to the box size to be safe for the actual data\n",
    "box_center = [(rand_positions_np[:, i].max() + rand_positions_np[:, i].min()) / 2 for i in range(3)]\n",
    "\n",
    "print(\"Size of the box: \", box_size)\n",
    "print(\"Center of the box: \", box_center)"
   ]
  },
  {
   "cell_type": "code",
   "execution_count": null,
   "metadata": {},
   "outputs": [],
   "source": [
    "kc = 4/3*np.pi\n",
    "J = 6\n",
    "Q = 2\n",
    "angular_width = np.pi/4\n",
    "scattering = True\n",
    "kmax = 0.5\n",
    "\n",
    "device = 0"
   ]
  },
  {
   "cell_type": "code",
   "execution_count": null,
   "metadata": {},
   "outputs": [],
   "source": [
    "wst_op = GalaxyCatalogScatteringOp(J=J,\n",
    "                                      Q=Q,\n",
    "                                      kc=kc,\n",
    "                                      angular_width=angular_width,\n",
    "                                      scattering=scattering,\n",
    "                                      kmax=kmax,\n",
    "                                      box_size=box_size,\n",
    "                                      box_center=box_center,\n",
    "                                      los=los,\n",
    "                                      los_auto_detection=False,\n",
    "                                      device=device)"
   ]
  },
  {
   "cell_type": "code",
   "execution_count": null,
   "metadata": {},
   "outputs": [],
   "source": [
    "s0, s1, s2 = wst_op(data, randoms=randoms)"
   ]
  }
 ],
 "metadata": {
  "kernelspec": {
   "display_name": "Python 3.7.11 ('simbig')",
   "language": "python",
   "name": "python3"
  },
  "language_info": {
   "codemirror_mode": {
    "name": "ipython",
    "version": 3
   },
   "file_extension": ".py",
   "mimetype": "text/x-python",
   "name": "python",
   "nbconvert_exporter": "python",
   "pygments_lexer": "ipython3",
   "version": "3.8.16"
  },
  "orig_nbformat": 4,
  "vscode": {
   "interpreter": {
    "hash": "0d244456a82dc31b47225a09904cb1f2c4be38e2af7b6ab38055aeed2526dafd"
   }
  }
 },
 "nbformat": 4,
 "nbformat_minor": 2
}
