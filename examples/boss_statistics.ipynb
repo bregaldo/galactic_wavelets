{
 "cells": [
  {
   "cell_type": "code",
   "execution_count": 1,
   "metadata": {},
   "outputs": [],
   "source": [
    "import numpy as np\n",
    "import matplotlib.pyplot as plt\n",
    "import galactic_wavelets as gw\n",
    "from nbodykit.lab import transform\n",
    "\n",
    "from utils import load_boss_data"
   ]
  },
  {
   "cell_type": "markdown",
   "metadata": {},
   "source": [
    "We first download and load the BOSS DR12 catalog (LOWZ South) following [nbodykit cookbook](https://nbodykit.readthedocs.io/en/latest/cookbook/boss-dr12-data.html)."
   ]
  },
  {
   "cell_type": "code",
   "execution_count": 2,
   "metadata": {},
   "outputs": [
    {
     "name": "stdout",
     "output_type": "stream",
     "text": [
      "Data has already been downloaded.\n",
      "Data has already been downloaded.\n"
     ]
    }
   ],
   "source": [
    "data, randoms, cosmo = load_boss_data()"
   ]
  },
  {
   "cell_type": "code",
   "execution_count": 3,
   "metadata": {},
   "outputs": [],
   "source": [
    "# We estimate the center of the BOSS data survey by taking averages of the ra/dec/z ranges\n",
    "randra_np = randoms['RA'].compute()\n",
    "randdec_np = randoms['DEC'].compute()\n",
    "randz_np = randoms['Z'].compute()\n",
    "randra_np[randra_np > 180] -= 360 # To make RA in [-180, 180]"
   ]
  },
  {
   "cell_type": "code",
   "execution_count": 9,
   "metadata": {},
   "outputs": [
    {
     "name": "stdout",
     "output_type": "stream",
     "text": [
      "Line of sight:  [0.97571154 0.01505775 0.21854119]\n"
     ]
    }
   ],
   "source": [
    "# Determine a line of sight from the RA/DEC/z ranges\n",
    "mean_ra = (randra_np.max() + randra_np.min()) / 2\n",
    "mean_dec = (randdec_np.max() + randdec_np.min()) / 2\n",
    "mean_z = (randz_np.max() + randz_np.min()) / 2\n",
    "radecz_center = transform.SkyToCartesian(np.array([mean_ra]), np.array([mean_dec]), np.array([mean_z]), cosmo=cosmo).compute()[0]\n",
    "los = radecz_center / np.linalg.norm(radecz_center) # The los goes from (0, 0, 0) to radecz_center\n",
    "\n",
    "print(\"Line of sight: \", los)"
   ]
  },
  {
   "cell_type": "code",
   "execution_count": 5,
   "metadata": {},
   "outputs": [
    {
     "name": "stdout",
     "output_type": "stream",
     "text": [
      "Size of the box:  [892.8683359487425, 1682.9587890141333, 945.3135243771354]\n",
      "Center of the box:  [729.3254751272971, 13.789307782221158, 230.5823656426041]\n"
     ]
    }
   ],
   "source": [
    "# Determine size and center of the box\n",
    "rand_positions_np = randoms['Position'].compute()\n",
    "BoxSize = [rand_positions_np[:, i].max() - rand_positions_np[:, i].min() for i in range(3)]\n",
    "BoxSize = [BoxSize[i] * 1.05 for i in range(3)] # Add 5% to the box size to be safe for the actual data\n",
    "BoxCenter = [(rand_positions_np[:, i].max() + rand_positions_np[:, i].min()) / 2 for i in range(3)]\n",
    "\n",
    "print(\"Size of the box: \", BoxSize)\n",
    "print(\"Center of the box: \", BoxCenter)"
   ]
  },
  {
   "cell_type": "code",
   "execution_count": 10,
   "metadata": {},
   "outputs": [],
   "source": [
    "J, Q = 4, 2\n",
    "kc = 4*np.pi/3 # pixel^-1 units\n",
    "kmax = 0.5 # h/Mpc units\n",
    "angular_width = np.pi / 4"
   ]
  },
  {
   "cell_type": "code",
   "execution_count": 11,
   "metadata": {},
   "outputs": [
    {
     "name": "stdout",
     "output_type": "stream",
     "text": [
      "Auto-adjustement of the BoxSize changed BoxSize to [892.2123136195013, 1683.893662324129, 942.4777960769379] and Ngrid to (142, 268, 150).\n"
     ]
    }
   ],
   "source": [
    "op = gw.GalaxyCatalogScatteringOp(J=J, Q=Q, kc=kc,\n",
    "                                  BoxSize=BoxSize, BoxCenter=BoxCenter,\n",
    "                                  los=los, los_auto_detection=False,\n",
    "                                  angular_width=angular_width,\n",
    "                                  scattering=True, kmax=kmax)"
   ]
  },
  {
   "cell_type": "code",
   "execution_count": 11,
   "metadata": {},
   "outputs": [
    {
     "name": "stdout",
     "output_type": "stream",
     "text": [
      "Create mesh from catalog...\n"
     ]
    },
    {
     "ename": "KeyError",
     "evalue": "'fsky'",
     "output_type": "error",
     "traceback": [
      "\u001b[0;31m---------------------------------------------------------------------------\u001b[0m",
      "\u001b[0;31mKeyError\u001b[0m                                  Traceback (most recent call last)",
      "\u001b[0;32m/tmp/ipykernel_2134684/1076001063.py\u001b[0m in \u001b[0;36m<module>\u001b[0;34m\u001b[0m\n\u001b[0;32m----> 1\u001b[0;31m \u001b[0mwm\u001b[0m \u001b[0;34m=\u001b[0m \u001b[0mop\u001b[0m\u001b[0;34m(\u001b[0m\u001b[0mdata\u001b[0m\u001b[0;34m,\u001b[0m \u001b[0mrandoms\u001b[0m\u001b[0;34m)\u001b[0m\u001b[0;34m\u001b[0m\u001b[0;34m\u001b[0m\u001b[0m\n\u001b[0m",
      "\u001b[0;32m~/Projects/GalacticWavelets/galactic_wavelets/galactic_wavelets/scattering_operator.py\u001b[0m in \u001b[0;36m__call__\u001b[0;34m(self, galaxies, *args, **kwargs)\u001b[0m\n\u001b[1;32m    122\u001b[0m \u001b[0;34m\u001b[0m\u001b[0m\n\u001b[1;32m    123\u001b[0m     \u001b[0;32mdef\u001b[0m \u001b[0m__call__\u001b[0m\u001b[0;34m(\u001b[0m\u001b[0mself\u001b[0m\u001b[0;34m,\u001b[0m \u001b[0mgalaxies\u001b[0m\u001b[0;34m,\u001b[0m \u001b[0;34m*\u001b[0m\u001b[0margs\u001b[0m\u001b[0;34m,\u001b[0m \u001b[0;34m**\u001b[0m\u001b[0mkwargs\u001b[0m\u001b[0;34m)\u001b[0m\u001b[0;34m:\u001b[0m\u001b[0;34m\u001b[0m\u001b[0;34m\u001b[0m\u001b[0m\n\u001b[0;32m--> 124\u001b[0;31m         \u001b[0;32mreturn\u001b[0m \u001b[0mself\u001b[0m\u001b[0;34m.\u001b[0m\u001b[0mforward\u001b[0m\u001b[0;34m(\u001b[0m\u001b[0mgalaxies\u001b[0m\u001b[0;34m,\u001b[0m \u001b[0;34m*\u001b[0m\u001b[0margs\u001b[0m\u001b[0;34m,\u001b[0m \u001b[0;34m**\u001b[0m\u001b[0mkwargs\u001b[0m\u001b[0;34m)\u001b[0m\u001b[0;34m\u001b[0m\u001b[0;34m\u001b[0m\u001b[0m\n\u001b[0m\u001b[1;32m    125\u001b[0m \u001b[0;34m\u001b[0m\u001b[0m\n\u001b[1;32m    126\u001b[0m     \u001b[0;32mdef\u001b[0m \u001b[0mbuild_wavelets\u001b[0m\u001b[0;34m(\u001b[0m\u001b[0mself\u001b[0m\u001b[0;34m)\u001b[0m\u001b[0;34m:\u001b[0m\u001b[0;34m\u001b[0m\u001b[0;34m\u001b[0m\u001b[0m\n",
      "\u001b[0;32m~/Projects/GalacticWavelets/galactic_wavelets/galactic_wavelets/scattering_operator.py\u001b[0m in \u001b[0;36mforward\u001b[0;34m(self, galaxies, randoms, survey_geometry, cosmo, ret_shot_noise, ret_norm, ret_ngal, ret_alpha, return_mask_averaged, return_full_averaged, return_abs_filtered_fields, return_masked_abs_filtered_fields)\u001b[0m\n\u001b[1;32m    398\u001b[0m         \"\"\"\n\u001b[1;32m    399\u001b[0m         \u001b[0;31m# Build mesh and get the output\u001b[0m\u001b[0;34m\u001b[0m\u001b[0;34m\u001b[0m\u001b[0;34m\u001b[0m\u001b[0m\n\u001b[0;32m--> 400\u001b[0;31m         \u001b[0mret\u001b[0m \u001b[0;34m=\u001b[0m \u001b[0mself\u001b[0m\u001b[0;34m.\u001b[0m\u001b[0mcreate_mesh\u001b[0m\u001b[0;34m(\u001b[0m\u001b[0mgalaxies\u001b[0m\u001b[0;34m,\u001b[0m \u001b[0mrandoms\u001b[0m\u001b[0;34m=\u001b[0m\u001b[0mrandoms\u001b[0m\u001b[0;34m,\u001b[0m \u001b[0msurvey_geometry\u001b[0m\u001b[0;34m=\u001b[0m\u001b[0;32mTrue\u001b[0m\u001b[0;34m,\u001b[0m \u001b[0mcosmo\u001b[0m\u001b[0;34m=\u001b[0m\u001b[0mcosmo\u001b[0m\u001b[0;34m,\u001b[0m \u001b[0mret_shot_noise\u001b[0m\u001b[0;34m=\u001b[0m\u001b[0mret_shot_noise\u001b[0m\u001b[0;34m,\u001b[0m \u001b[0mret_norm\u001b[0m\u001b[0;34m=\u001b[0m\u001b[0mret_norm\u001b[0m\u001b[0;34m,\u001b[0m \u001b[0mret_ngal\u001b[0m\u001b[0;34m=\u001b[0m\u001b[0mret_ngal\u001b[0m\u001b[0;34m,\u001b[0m \u001b[0mret_alpha\u001b[0m\u001b[0;34m=\u001b[0m\u001b[0mret_alpha\u001b[0m\u001b[0;34m)\u001b[0m\u001b[0;34m\u001b[0m\u001b[0;34m\u001b[0m\u001b[0m\n\u001b[0m\u001b[1;32m    401\u001b[0m         \u001b[0mi\u001b[0m \u001b[0;34m=\u001b[0m \u001b[0;36m0\u001b[0m\u001b[0;34m\u001b[0m\u001b[0;34m\u001b[0m\u001b[0m\n\u001b[1;32m    402\u001b[0m         \u001b[0mdeltan\u001b[0m \u001b[0;34m=\u001b[0m \u001b[0mret\u001b[0m\u001b[0;34m[\u001b[0m\u001b[0mi\u001b[0m\u001b[0;34m]\u001b[0m\u001b[0;34m\u001b[0m\u001b[0;34m\u001b[0m\u001b[0m\n",
      "\u001b[0;32m~/Projects/GalacticWavelets/galactic_wavelets/galactic_wavelets/scattering_operator.py\u001b[0m in \u001b[0;36mcreate_mesh\u001b[0;34m(self, galaxies, randoms, survey_geometry, cosmo, normalize, ret_shot_noise, ret_norm, ret_ngal, ret_alpha)\u001b[0m\n\u001b[1;32m    252\u001b[0m \u001b[0;34m\u001b[0m\u001b[0m\n\u001b[1;32m    253\u001b[0m             \u001b[0;31m# make 3D field\u001b[0m\u001b[0;34m\u001b[0m\u001b[0;34m\u001b[0m\u001b[0;34m\u001b[0m\u001b[0m\n\u001b[0;32m--> 254\u001b[0;31m             \u001b[0mng_nofz\u001b[0m \u001b[0;34m=\u001b[0m \u001b[0mUT\u001b[0m\u001b[0;34m.\u001b[0m\u001b[0mget_nofz\u001b[0m\u001b[0;34m(\u001b[0m\u001b[0mnp\u001b[0m\u001b[0;34m.\u001b[0m\u001b[0marray\u001b[0m\u001b[0;34m(\u001b[0m\u001b[0mgalaxies\u001b[0m\u001b[0;34m[\u001b[0m\u001b[0;34m'Z'\u001b[0m\u001b[0;34m]\u001b[0m\u001b[0;34m)\u001b[0m\u001b[0;34m,\u001b[0m \u001b[0mgalaxies\u001b[0m\u001b[0;34m.\u001b[0m\u001b[0mattrs\u001b[0m\u001b[0;34m[\u001b[0m\u001b[0;34m'fsky'\u001b[0m\u001b[0;34m]\u001b[0m\u001b[0;34m,\u001b[0m \u001b[0mcosmo\u001b[0m\u001b[0;34m=\u001b[0m\u001b[0mcosmo\u001b[0m\u001b[0;34m)\u001b[0m\u001b[0;34m\u001b[0m\u001b[0;34m\u001b[0m\u001b[0m\n\u001b[0m\u001b[1;32m    255\u001b[0m             \u001b[0mnbar_galaxies\u001b[0m \u001b[0;34m=\u001b[0m \u001b[0mng_nofz\u001b[0m\u001b[0;34m(\u001b[0m\u001b[0mnp\u001b[0m\u001b[0;34m.\u001b[0m\u001b[0marray\u001b[0m\u001b[0;34m(\u001b[0m\u001b[0mgalaxies\u001b[0m\u001b[0;34m[\u001b[0m\u001b[0;34m'Z'\u001b[0m\u001b[0;34m]\u001b[0m\u001b[0;34m)\u001b[0m\u001b[0;34m)\u001b[0m\u001b[0;34m\u001b[0m\u001b[0;34m\u001b[0m\u001b[0m\n\u001b[1;32m    256\u001b[0m             \u001b[0;32mif\u001b[0m \u001b[0mrandoms\u001b[0m \u001b[0;32mis\u001b[0m \u001b[0;32mnot\u001b[0m \u001b[0;32mNone\u001b[0m\u001b[0;34m:\u001b[0m\u001b[0;34m\u001b[0m\u001b[0;34m\u001b[0m\u001b[0m\n",
      "\u001b[0;31mKeyError\u001b[0m: 'fsky'"
     ]
    }
   ],
   "source": [
    "wm = op(data, randoms)"
   ]
  },
  {
   "cell_type": "code",
   "execution_count": null,
   "metadata": {},
   "outputs": [],
   "source": []
  }
 ],
 "metadata": {
  "kernelspec": {
   "display_name": "Python 3.7.11 ('simbig')",
   "language": "python",
   "name": "python3"
  },
  "language_info": {
   "codemirror_mode": {
    "name": "ipython",
    "version": 3
   },
   "file_extension": ".py",
   "mimetype": "text/x-python",
   "name": "python",
   "nbconvert_exporter": "python",
   "pygments_lexer": "ipython3",
   "version": "3.7.11"
  },
  "orig_nbformat": 4,
  "vscode": {
   "interpreter": {
    "hash": "0d244456a82dc31b47225a09904cb1f2c4be38e2af7b6ab38055aeed2526dafd"
   }
  }
 },
 "nbformat": 4,
 "nbformat_minor": 2
}
